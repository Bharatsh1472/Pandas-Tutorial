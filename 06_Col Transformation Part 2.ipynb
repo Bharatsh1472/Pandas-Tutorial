{
 "cells": [
  {
   "cell_type": "markdown",
   "id": "46ddda41-13ae-4068-921c-6f1544f60046",
   "metadata": {},
   "source": [
    "# Column Transformation Part-2"
   ]
  },
  {
   "cell_type": "code",
   "execution_count": 3,
   "id": "713a65e1-4079-470d-9465-b58dc1bb33d1",
   "metadata": {},
   "outputs": [
    {
     "name": "stdout",
     "output_type": "stream",
     "text": [
      "     Months\n",
      "0   January\n",
      "1  February\n",
      "2     March\n",
      "3     April\n",
      "\n",
      "     Months Short_month\n",
      "0   January         Jan\n",
      "1  February         Feb\n",
      "2     March         Mar\n",
      "3     April         Apr\n"
     ]
    }
   ],
   "source": [
    "import pandas as pd\n",
    "data = {\"Months\" : [\"January\", \"February\", \"March\", \"April\"]}\n",
    "\n",
    "# Convert the dictionary into a DataFrame\n",
    "df = pd.DataFrame(data)\n",
    "\n",
    "print(df)\n",
    "print()\n",
    "\n",
    "# Define a function to extract the first three characters of a string\n",
    "def extract(val):\n",
    "    return val[0:3]   # Return the substring from index 0 to 3\n",
    "\n",
    "# Apply the extract function to the \"Months\" column and create a new column \"Short_month\"\n",
    "df[\"Short_month\"] = df[\"Months\"].map(extract)\n",
    "print(df)"
   ]
  }
 ],
 "metadata": {
  "kernelspec": {
   "display_name": "Python 3 (ipykernel)",
   "language": "python",
   "name": "python3"
  },
  "language_info": {
   "codemirror_mode": {
    "name": "ipython",
    "version": 3
   },
   "file_extension": ".py",
   "mimetype": "text/x-python",
   "name": "python",
   "nbconvert_exporter": "python",
   "pygments_lexer": "ipython3",
   "version": "3.11.7"
  }
 },
 "nbformat": 4,
 "nbformat_minor": 5
}
