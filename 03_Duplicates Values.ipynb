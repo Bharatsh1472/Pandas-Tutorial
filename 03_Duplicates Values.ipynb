{
 "cells": [
  {
   "cell_type": "markdown",
   "id": "e82759e4-cf07-420c-9f9d-ef15f384ef5e",
   "metadata": {},
   "source": [
    "# Handling Duplicate Values"
   ]
  },
  {
   "cell_type": "code",
   "execution_count": 6,
   "id": "3dfd77bd-9398-4bbd-9887-a5d05e03bd28",
   "metadata": {
    "scrolled": true
   },
   "outputs": [
    {
     "name": "stdout",
     "output_type": "stream",
     "text": [
      "   EMPID      Name Gender   Salary\n",
      "0    101  harshita      F  35133.0\n",
      "1    105    bhavin      M      NaN\n",
      "2    101  harshita      F  35133.0\n",
      "3    103     abhay      M  35453.0\n",
      "4    108       NaN      F  35365.0\n",
      "5    110     nitin      M      NaN\n",
      "6    103     abhay      M  35453.0\n"
     ]
    }
   ],
   "source": [
    "import pandas as pd\n",
    "\n",
    "data = pd.read_excel(\"C:/Users/ACER/Desktop/stuff/DS PROJECT/Datasets/EMP.XLSX\")\n",
    "print(data)"
   ]
  },
  {
   "cell_type": "code",
   "execution_count": 10,
   "id": "ae85c893-f65e-4300-89c9-6be5407a921f",
   "metadata": {},
   "outputs": [
    {
     "name": "stdout",
     "output_type": "stream",
     "text": [
      "0    False\n",
      "1    False\n",
      "2     True\n",
      "3    False\n",
      "4    False\n",
      "5    False\n",
      "6     True\n",
      "Name: EMPID, dtype: bool\n",
      "\n",
      "2\n"
     ]
    }
   ],
   "source": [
    "# Check for duplicated entries in the \"EMPID\" column and print the result\n",
    "print(data[\"EMPID\"].duplicated())\n",
    "print()\n",
    "# Count the total number of duplicated entries in the \"EMPID\" column and print the result\n",
    "print(data[\"EMPID\"].duplicated().sum())"
   ]
  },
  {
   "cell_type": "code",
   "execution_count": 12,
   "id": "fc7d212c-5ffa-47b0-8073-4c13db42adc3",
   "metadata": {},
   "outputs": [
    {
     "name": "stdout",
     "output_type": "stream",
     "text": [
      "   EMPID      Name Gender   Salary\n",
      "0    101  harshita      F  35133.0\n",
      "1    105    bhavin      M      NaN\n",
      "3    103     abhay      M  35453.0\n",
      "4    108       NaN      F  35365.0\n",
      "5    110     nitin      M      NaN\n"
     ]
    }
   ],
   "source": [
    "# Remove duplicated entries in the \"EMPID\" column and print the result\n",
    "print(data.drop_duplicates(\"EMPID\"))"
   ]
  }
 ],
 "metadata": {
  "kernelspec": {
   "display_name": "Python 3 (ipykernel)",
   "language": "python",
   "name": "python3"
  },
  "language_info": {
   "codemirror_mode": {
    "name": "ipython",
    "version": 3
   },
   "file_extension": ".py",
   "mimetype": "text/x-python",
   "name": "python",
   "nbconvert_exporter": "python",
   "pygments_lexer": "ipython3",
   "version": "3.11.7"
  }
 },
 "nbformat": 4,
 "nbformat_minor": 5
}
