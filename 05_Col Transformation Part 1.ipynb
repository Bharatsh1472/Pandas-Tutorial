{
 "cells": [
  {
   "cell_type": "markdown",
   "id": "0a26fa9b-099a-4747-86f9-4b39c5a268d5",
   "metadata": {},
   "source": [
    "# Column Transformation Part-1"
   ]
  },
  {
   "cell_type": "code",
   "execution_count": 3,
   "id": "5501bc2b-2dee-425a-8d34-c068bda30be9",
   "metadata": {},
   "outputs": [
    {
     "name": "stdout",
     "output_type": "stream",
     "text": [
      "       EEID        Full Name                 Job Title  Department  \\\n",
      "0    E02387      Emily Davis                Sr. Manger          IT   \n",
      "1    E04105    Theodore Dinh       Technical Architect          IT   \n",
      "2    E02572     Luna Sanders                  Director     Finance   \n",
      "3    E02832  Penelope Jordan  Computer Systems Manager          IT   \n",
      "4    E01639        Austin Vo               Sr. Analyst     Finance   \n",
      "..      ...              ...                       ...         ...   \n",
      "995  E03094     Wesley Young               Sr. Analyst   Marketing   \n",
      "996  E01909     Lillian Khan                   Analyst     Finance   \n",
      "997  E04398      Oliver Yang                  Director   Marketing   \n",
      "998  E02521      Lily Nguyen               Sr. Analyst     Finance   \n",
      "999  E03545      Sofia Cheng            Vice President  Accounting   \n",
      "\n",
      "              Business Unit  Gender  Ethnicity  Age  Hire Date  Annual Salary  \\\n",
      "0    Research & Development  Female      Black   55 2016-04-08         141604   \n",
      "1             Manufacturing    Male      Asian   59 1997-11-29          99975   \n",
      "2       Speciality Products  Female  Caucasian   50 2006-10-26         163099   \n",
      "3             Manufacturing  Female  Caucasian   26 2019-09-27          84913   \n",
      "4             Manufacturing    Male      Asian   55 1995-11-20          95409   \n",
      "..                      ...     ...        ...  ...        ...            ...   \n",
      "995     Speciality Products    Male  Caucasian   33 2016-09-18          98427   \n",
      "996     Speciality Products  Female      Asian   44 2010-05-31          47387   \n",
      "997     Speciality Products    Male      Asian   31 2019-06-10         176710   \n",
      "998     Speciality Products  Female      Asian   33 2012-01-28          95960   \n",
      "999               Corporate  Female      Asian   63 2020-07-26         216195   \n",
      "\n",
      "     Bonus %        Country       City  Exit Date  \n",
      "0       0.15  United States    Seattle 2021-10-16  \n",
      "1       0.00          China  Chongqing        NaT  \n",
      "2       0.20  United States    Chicago        NaT  \n",
      "3       0.07  United States    Chicago        NaT  \n",
      "4       0.00  United States    Phoenix        NaT  \n",
      "..       ...            ...        ...        ...  \n",
      "995     0.00  United States   Columbus        NaT  \n",
      "996     0.00          China    Chengdu 2018-01-08  \n",
      "997     0.15  United States      Miami        NaT  \n",
      "998     0.00          China    Chengdu        NaT  \n",
      "999     0.31  United States      Miami        NaT  \n",
      "\n",
      "[1000 rows x 14 columns]\n"
     ]
    }
   ],
   "source": [
    "import pandas as pd\n",
    "\n",
    "data = pd.read_excel(\"C:/Users/ACER/Desktop/stuff/DS PROJECT/Datasets/ESD.xlsx\")\n",
    "print(data)"
   ]
  },
  {
   "cell_type": "code",
   "execution_count": 5,
   "id": "20f546b2-ef2b-4877-af0a-7e187ba2db0f",
   "metadata": {},
   "outputs": [
    {
     "name": "stdout",
     "output_type": "stream",
     "text": [
      "     EEID        Full Name                 Job Title  Department  \\\n",
      "0  E02387      Emily Davis                Sr. Manger          IT   \n",
      "1  E04105    Theodore Dinh       Technical Architect          IT   \n",
      "2  E02572     Luna Sanders                  Director     Finance   \n",
      "3  E02832  Penelope Jordan  Computer Systems Manager          IT   \n",
      "4  E01639        Austin Vo               Sr. Analyst     Finance   \n",
      "5  E00644     Joshua Gupta    Account Representative       Sales   \n",
      "6  E01550      Ruby Barnes                   Manager          IT   \n",
      "7  E04332      Luke Martin                   Analyst     Finance   \n",
      "8  E04533    Easton Bailey                   Manager  Accounting   \n",
      "9  E03838  Madeline Walker               Sr. Analyst     Finance   \n",
      "\n",
      "            Business Unit  Gender  Ethnicity  Age  Hire Date  Annual Salary  \\\n",
      "0  Research & Development  Female      Black   55 2016-04-08         141604   \n",
      "1           Manufacturing    Male      Asian   59 1997-11-29          99975   \n",
      "2     Speciality Products  Female  Caucasian   50 2006-10-26         163099   \n",
      "3           Manufacturing  Female  Caucasian   26 2019-09-27          84913   \n",
      "4           Manufacturing    Male      Asian   55 1995-11-20          95409   \n",
      "5               Corporate    Male      Asian   57 2017-01-24          50994   \n",
      "6               Corporate  Female  Caucasian   27 2020-07-01         119746   \n",
      "7           Manufacturing    Male      Black   25 2020-05-16          41336   \n",
      "8           Manufacturing    Male  Caucasian   29 2019-01-25         113527   \n",
      "9     Speciality Products  Female  Caucasian   34 2018-06-13          77203   \n",
      "\n",
      "   Bonus %        Country       City  Exit Date GetsBonus  \n",
      "0     0.15  United States    Seattle 2021-10-16     Bonus  \n",
      "1     0.00          China  Chongqing        NaT  No Bonus  \n",
      "2     0.20  United States    Chicago        NaT     Bonus  \n",
      "3     0.07  United States    Chicago        NaT     Bonus  \n",
      "4     0.00  United States    Phoenix        NaT  No Bonus  \n",
      "5     0.00          China  Chongqing        NaT  No Bonus  \n",
      "6     0.10  United States    Phoenix        NaT     Bonus  \n",
      "7     0.00  United States      Miami 2021-05-20  No Bonus  \n",
      "8     0.06  United States     Austin        NaT     Bonus  \n",
      "9     0.00  United States    Chicago        NaT  No Bonus  \n",
      "\n",
      "GetsBonus\n",
      "No Bonus    525\n",
      "Bonus       475\n",
      "Name: count, dtype: int64\n"
     ]
    }
   ],
   "source": [
    "# Assign \"No Bonus\" to the GetsBonus column for employees with a Bonus % of 0\n",
    "data.loc[(data[\"Bonus %\"] == 0), \"GetsBonus\"] = \"No Bonus\"\n",
    "\n",
    "# Assign \"Bonus\" to the GetsBonus column for employees with a Bonus % greater than 0\n",
    "data.loc[(data[\"Bonus %\"] > 0), \"GetsBonus\"] = \"Bonus\"\n",
    "\n",
    "print(data.head(10))\n",
    "print()\n",
    "\n",
    "# NOW to count the number of employees getting a bonus and those not getting a bonus, we can use the value_counts method on the GetsBonus\n",
    "bonus_counts = data[\"GetsBonus\"].value_counts()\n",
    "print(bonus_counts)"
   ]
  },
  {
   "cell_type": "code",
   "execution_count": 9,
   "id": "13a0e463-a8a5-41f3-b13a-3a0d2d239f3a",
   "metadata": {},
   "outputs": [
    {
     "name": "stdout",
     "output_type": "stream",
     "text": [
      "  First Name Last Name  Salary EMPID Unnamed: 4\n",
      "0   harshita    forbes   35133    E1       High\n",
      "1     bhavin       das   13565    E2        Low\n",
      "2   harshita     singh   23123    E7        Low\n",
      "3      abhay      deol   43231    E8       High\n",
      "4     bhavya     kumar   35365    E4       High\n",
      "5      nitin      seth   65000    E5       High\n",
      "\n",
      "  First Name Last Name  Salary EMPID Unnamed: 4        Full Name\n",
      "0   harshita    forbes   35133    E1       High  Harshita Forbes\n",
      "1     bhavin       das   13565    E2        Low       Bhavin Das\n",
      "2   harshita     singh   23123    E7        Low   Harshita Singh\n",
      "3      abhay      deol   43231    E8       High       Abhay Deol\n",
      "4     bhavya     kumar   35365    E4       High     Bhavya Kumar\n",
      "5      nitin      seth   65000    E5       High       Nitin Seth\n",
      "\n",
      "  First Name Last Name  Salary EMPID Unnamed: 4        Full Name    Bonus\n",
      "0   harshita    forbes   35133    E1       High  Harshita Forbes  5269.95\n",
      "1     bhavin       das   13565    E2        Low       Bhavin Das  2034.75\n",
      "2   harshita     singh   23123    E7        Low   Harshita Singh  3468.45\n",
      "3      abhay      deol   43231    E8       High       Abhay Deol  6484.65\n",
      "4     bhavya     kumar   35365    E4       High     Bhavya Kumar  5304.75\n",
      "5      nitin      seth   65000    E5       High       Nitin Seth  9750.00\n"
     ]
    }
   ],
   "source": [
    "data = pd.read_excel(\"C:/Users/ACER/Desktop/stuff/DS PROJECT/Datasets/PRACTICE_1.xlsx\")\n",
    "print(data)\n",
    "print()\n",
    "\n",
    "# Creating a new column 'Full Name' by capitalizing the 'First Name' and 'Last Name' columns and concatenating them\n",
    "data[\"Full Name\"] = data[\"First Name\"].str.capitalize() + \" \" + data[\"Last Name\"].str.capitalize()\n",
    "\n",
    "print(data)\n",
    "print()\n",
    "\n",
    "# Calculating the 'Bonus' as 15% of the 'Salary' and storing it in a new column\n",
    "data[\"Bonus\"] = (data[\"Salary\"]/100)*15\n",
    "print(data)"
   ]
  }
 ],
 "metadata": {
  "kernelspec": {
   "display_name": "Python 3 (ipykernel)",
   "language": "python",
   "name": "python3"
  },
  "language_info": {
   "codemirror_mode": {
    "name": "ipython",
    "version": 3
   },
   "file_extension": ".py",
   "mimetype": "text/x-python",
   "name": "python",
   "nbconvert_exporter": "python",
   "pygments_lexer": "ipython3",
   "version": "3.11.7"
  }
 },
 "nbformat": 4,
 "nbformat_minor": 5
}
