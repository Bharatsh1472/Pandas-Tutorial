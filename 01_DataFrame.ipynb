{
 "cells": [
  {
   "cell_type": "markdown",
   "id": "5f267841-33f1-4c8b-baf9-3eea36d23660",
   "metadata": {},
   "source": [
    "# DataFrame Creation"
   ]
  },
  {
   "cell_type": "markdown",
   "id": "8c358f4c-05b3-4572-b876-3e38e60ad698",
   "metadata": {},
   "source": [
    "* A DataFrame in Pandas is a two-dimensional, labeled data structure that resembles a table with rows and columns, allowing for efficient data manipulation and analysis."
   ]
  },
  {
   "cell_type": "code",
   "execution_count": 7,
   "id": "f00c4925-944e-4b5b-addf-7adc716e0a24",
   "metadata": {},
   "outputs": [
    {
     "name": "stdout",
     "output_type": "stream",
     "text": [
      "     Name  Age  Salary\n",
      "0  Bharat   19   50000\n",
      "1   Bhanu   20   35000\n",
      "2    Ajay   22   40000\n"
     ]
    }
   ],
   "source": [
    "import pandas as pd\n",
    "\n",
    "data = {\"Name\":[\"Bharat\", \"Bhanu\", \"Ajay\"],\n",
    "       \"Age\": [19,20,22],\n",
    "        \"Salary\": [50000,35000,40000]}\n",
    "\n",
    "df = pd.DataFrame(data)\n",
    "print(df)"
   ]
  },
  {
   "cell_type": "code",
   "execution_count": 15,
   "id": "128ef292-8ff4-4bde-83da-254595584d63",
   "metadata": {},
   "outputs": [
    {
     "name": "stdout",
     "output_type": "stream",
     "text": [
      "       id  age  gender  income  spending_score  membership_years  \\\n",
      "0       1   38  Female   99342              90                 3   \n",
      "1       2   21  Female   78852              60                 2   \n",
      "2       3   60  Female  126573              30                 2   \n",
      "3       4   40   Other   47099              74                 9   \n",
      "4       5   65  Female  140621              21                 3   \n",
      "..    ...  ...     ...     ...             ...               ...   \n",
      "995   996   57    Male  112170              57                 6   \n",
      "996   997   23   Other   65337              76                10   \n",
      "997   998   23    Male  113097              40                 5   \n",
      "998   999   22  Female  113695              63                 7   \n",
      "999  1000   36  Female   90420               7                 2   \n",
      "\n",
      "     purchase_frequency preferred_category  last_purchase_amount  \n",
      "0                    24          Groceries                113.53  \n",
      "1                    42             Sports                 41.93  \n",
      "2                    28           Clothing                424.36  \n",
      "3                     5      Home & Garden                991.93  \n",
      "4                    25        Electronics                347.08  \n",
      "..                  ...                ...                   ...  \n",
      "995                   1           Clothing                313.64  \n",
      "996                  23          Groceries                632.83  \n",
      "997                  42             Sports                 75.09  \n",
      "998                  44        Electronics                505.16  \n",
      "999                  31          Groceries                669.26  \n",
      "\n",
      "[1000 rows x 9 columns]\n"
     ]
    }
   ],
   "source": [
    "# Reading the CSV file and storing it in variable 'd'\n",
    "d = pd.read_csv(\"C:/Users/ACER/Desktop/sttuff/DS PROJECT/Datasets/customer.csv\")\n",
    "print(d)"
   ]
  },
  {
   "cell_type": "code",
   "execution_count": null,
   "id": "eb138791-0657-4a80-bbab-5a75808cb8a4",
   "metadata": {},
   "outputs": [],
   "source": [
    "# READ EXCEL FILE\n",
    "\n",
    "file = pd.read_excel(\"FileName.xlsx\")\n",
    "print(file)"
   ]
  }
 ],
 "metadata": {
  "kernelspec": {
   "display_name": "Python 3 (ipykernel)",
   "language": "python",
   "name": "python3"
  },
  "language_info": {
   "codemirror_mode": {
    "name": "ipython",
    "version": 3
   },
   "file_extension": ".py",
   "mimetype": "text/x-python",
   "name": "python",
   "nbconvert_exporter": "python",
   "pygments_lexer": "ipython3",
   "version": "3.11.7"
  }
 },
 "nbformat": 4,
 "nbformat_minor": 5
}
