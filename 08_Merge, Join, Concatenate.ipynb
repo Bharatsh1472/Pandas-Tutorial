{
 "cells": [
  {
   "cell_type": "markdown",
   "id": "dca4992f-e529-4803-8689-bb1531ec9af4",
   "metadata": {},
   "source": [
    "# Merge, Join, & Concatenate Operations\n",
    "* Pandas provides powerful tools for combining DataFrames, including merging, joining, and concatenating.\n",
    "* These operations are essential for data analysis and manipulation tasks."
   ]
  },
  {
   "cell_type": "code",
   "execution_count": 8,
   "id": "79d6232c-9ae8-48ce-b30f-abef28098249",
   "metadata": {},
   "outputs": [
    {
     "name": "stdout",
     "output_type": "stream",
     "text": [
      "  EMPID        Name  Age\n",
      "0    E1         Ram   28\n",
      "1    E2    Lakshman   26\n",
      "2    E3      Bharat   24\n",
      "3    E4  Shatrughan   22\n",
      "4    E5         Luv    8\n",
      "5    E6        Kush    6\n",
      "\n",
      "  EMPID  Salary\n",
      "0    E1   65000\n",
      "1    E2   60000\n",
      "2    E3   57000\n",
      "3    E4   52000\n",
      "4    E5   38000\n",
      "5    E6   32000\n"
     ]
    }
   ],
   "source": [
    "import pandas as pd\n",
    "\n",
    "# Creating a dictionary with employee details\n",
    "data1 = {\"EMPID\":[\"E1\",\"E2\",\"E3\",\"E4\",\"E5\",\"E6\"],\n",
    "        \"Name\": [\"Ram\", \"Lakshman\", \"Bharat\", \"Shatrughan\", \"Luv\", \"Kush\"],\n",
    "        \"Age\": [28,26,24,22,8,6] }\n",
    "\n",
    "# Creating a dictionary with employee salary details\n",
    "data2 = {\"EMPID\":[\"E1\",\"E2\",\"E3\",\"E4\",\"E5\",\"E6\"],\n",
    "        \"Salary\": [65000,60000,57000,52000,38000,32000]}\n",
    "\n",
    "# Converting the first dictionary into a DataFrame\n",
    "df1 = pd.DataFrame(data1)\n",
    "\n",
    "# Converting the second dictionary into a DataFrame\n",
    "df2 = pd.DataFrame(data2)\n",
    "\n",
    "print(df1)\n",
    "print()\n",
    "print(df2)"
   ]
  },
  {
   "cell_type": "markdown",
   "id": "f310f00f-5590-4a3c-b616-1a9361cbafb1",
   "metadata": {},
   "source": [
    "# Merging\n",
    "*Merging combines DataFrames based on a common column or index. It's similar to SQL joins."
   ]
  },
  {
   "cell_type": "code",
   "execution_count": 10,
   "id": "c0b967d4-d86c-4992-bb1f-226448801bfa",
   "metadata": {},
   "outputs": [
    {
     "name": "stdout",
     "output_type": "stream",
     "text": [
      "  EMPID        Name  Age  Salary\n",
      "0    E1         Ram   28   65000\n",
      "1    E2    Lakshman   26   60000\n",
      "2    E3      Bharat   24   57000\n",
      "3    E4  Shatrughan   22   52000\n",
      "4    E5         Luv    8   38000\n",
      "5    E6        Kush    6   32000\n",
      "\n",
      "  EMPID        Name  Age  Salary\n",
      "0    E1         Ram   28   65000\n",
      "1    E2    Lakshman   26   60000\n",
      "2    E3      Bharat   24   57000\n",
      "3    E4  Shatrughan   22   52000\n",
      "4    E5         Luv    8   38000\n",
      "5    E6        Kush    6   32000\n"
     ]
    }
   ],
   "source": [
    "# Merge df1 and df2 DataFrames on the 'EMPID' column and store the result in merged_df\n",
    "merged_df = pd.merge(df1, df2, on=\"EMPID\")\n",
    "print(merged_df)\n",
    "\n",
    "print()\n",
    "\n",
    "# Print the result of merging df1 and df2 on the 'EMPID' column directly\n",
    "print(pd.merge(df1,df2, on = \"EMPID\"))"
   ]
  },
  {
   "cell_type": "code",
   "execution_count": 12,
   "id": "c55fc5e1-b8e2-4703-84e1-ab9ee445fe48",
   "metadata": {},
   "outputs": [
    {
     "name": "stdout",
     "output_type": "stream",
     "text": [
      "  EMPID        Name  Age\n",
      "0    E1         Ram   28\n",
      "1    E2    Lakshman   26\n",
      "2    E3      Bharat   24\n",
      "3    E4  Shatrughan   22\n",
      "4    E5         Luv    8\n",
      "5    E6        Kush    6\n",
      "\n",
      "  EMPID  Salary\n",
      "0    E1   65000\n",
      "1    E7   60000\n",
      "2    E3   57000\n",
      "3    E8   52000\n",
      "4    E5   38000\n",
      "5    E6   32000\n"
     ]
    }
   ],
   "source": [
    "data3 = {\"EMPID\":[\"E1\",\"E2\",\"E3\",\"E4\",\"E5\",\"E6\"],\n",
    "        \"Name\": [\"Ram\", \"Lakshman\", \"Bharat\", \"Shatrughan\", \"Luv\", \"Kush\"],\n",
    "        \"Age\": [28,26,24,22,8,6] }\n",
    "\n",
    "data4 = {\"EMPID\":[\"E1\",\"E7\",\"E3\",\"E8\",\"E5\",\"E6\"],\n",
    "        \"Salary\": [65000,60000,57000,52000,38000,32000]}\n",
    "\n",
    "df3 = pd.DataFrame(data3)\n",
    "df4 = pd.DataFrame(data4)\n",
    "\n",
    "print(df3)\n",
    "print()\n",
    "print(df4)"
   ]
  },
  {
   "cell_type": "markdown",
   "id": "eb58b335-7213-49e3-8e3a-fe8d5396ac9b",
   "metadata": {},
   "source": [
    "# Joining\n",
    "* Inner Join: Returns rows that have matching values in both DataFrames.\n",
    "* Left Join: Returns all rows from the left DataFrame and the matching rows from the right DataFrame.\n",
    "* Right Join: Returns all rows from the right DataFrame and the matching rows from the left DataFrame.\n",
    "* Outer Join: Returns all rows from both DataFrames."
   ]
  },
  {
   "cell_type": "code",
   "execution_count": 22,
   "id": "c4c7b558-0b5c-433e-a909-09e020c2552e",
   "metadata": {},
   "outputs": [
    {
     "name": "stdout",
     "output_type": "stream",
     "text": [
      "  EMPID    Name  Age  Salary\n",
      "0    E1     Ram   28   65000\n",
      "1    E3  Bharat   24   57000\n",
      "2    E5     Luv    8   38000\n",
      "3    E6    Kush    6   32000\n",
      "\n",
      "  EMPID    Name  Age  Salary\n",
      "0    E1     Ram   28   65000\n",
      "1    E3  Bharat   24   57000\n",
      "2    E5     Luv    8   38000\n",
      "3    E6    Kush    6   32000\n",
      "\n",
      "  EMPID    Name   Age  Salary\n",
      "0    E1     Ram  28.0   65000\n",
      "1    E7     NaN   NaN   60000\n",
      "2    E3  Bharat  24.0   57000\n",
      "3    E8     NaN   NaN   52000\n",
      "4    E5     Luv   8.0   38000\n",
      "5    E6    Kush   6.0   32000\n",
      "\n",
      "  EMPID        Name  Age   Salary\n",
      "0    E1         Ram   28  65000.0\n",
      "1    E2    Lakshman   26      NaN\n",
      "2    E3      Bharat   24  57000.0\n",
      "3    E4  Shatrughan   22      NaN\n",
      "4    E5         Luv    8  38000.0\n",
      "5    E6        Kush    6  32000.0\n",
      "\n",
      "  EMPID        Name   Age   Salary\n",
      "0    E1         Ram  28.0  65000.0\n",
      "1    E2    Lakshman  26.0      NaN\n",
      "2    E3      Bharat  24.0  57000.0\n",
      "3    E4  Shatrughan  22.0      NaN\n",
      "4    E5         Luv   8.0  38000.0\n",
      "5    E6        Kush   6.0  32000.0\n",
      "6    E7         NaN   NaN  60000.0\n",
      "7    E8         NaN   NaN  52000.0\n"
     ]
    }
   ],
   "source": [
    "# JOINS\n",
    "\n",
    "# Merge df3 and df4 based on the common column \"EMPID\"\n",
    "print(pd.merge(df3,df4, on = \"EMPID\"))   # This is a simple inner join by default\n",
    "print()\n",
    "\n",
    "# Explicitly specify an inner join\n",
    "print(pd.merge(left = df3, right = df4, on = \"EMPID\", how = \"inner\"))\n",
    "print()\n",
    "\n",
    "# Perform a right join, keeping all rows from df4 and matching rows from df3\n",
    "print(pd.merge(left = df3, right = df4, on = \"EMPID\", how = \"right\"))\n",
    "print()\n",
    "\n",
    "# Perform a left join, keeping all rows from df3 and matching rows from df4\n",
    "print(pd.merge(left = df3, right = df4, on = \"EMPID\", how = \"left\"))\n",
    "print()\n",
    "\n",
    "# Perform an Outer join, Returns all rows from both DataFrames df3 and df4\n",
    "print(pd.merge(df3, df4, on='EMPID', how='outer'))"
   ]
  },
  {
   "cell_type": "markdown",
   "id": "228aec63-0cbb-4190-a2c5-b9a15e6297d1",
   "metadata": {},
   "source": [
    "# Concatenating\n",
    "* Concatenation combines DataFrames along a specified axis (rows or columns)."
   ]
  },
  {
   "cell_type": "code",
   "execution_count": 25,
   "id": "8ff5b0ce-37f9-4b56-a759-1862aa883377",
   "metadata": {},
   "outputs": [
    {
     "name": "stdout",
     "output_type": "stream",
     "text": [
      "  EMPID        Name  Age\n",
      "0    E1         Ram   28\n",
      "1    E2    Lakshman   26\n",
      "2    E3      Bharat   24\n",
      "3    E4  Shatrughan   22\n",
      "4    E5         Luv    8\n",
      "5    E6        Kush    6\n",
      "\n",
      "  EMPID    Name  Age\n",
      "0    E7  Stefan   28\n",
      "1    E8   Damon   26\n",
      "2    E9   Klaus   24\n",
      "3   E10  Elijah   22\n",
      "4   E11    Matt    8\n",
      "5   E12   Tyler    6\n"
     ]
    }
   ],
   "source": [
    "data5 = {\"EMPID\":[\"E1\",\"E2\",\"E3\",\"E4\",\"E5\",\"E6\"],\n",
    "        \"Name\": [\"Ram\", \"Lakshman\", \"Bharat\", \"Shatrughan\", \"Luv\", \"Kush\"],\n",
    "        \"Age\": [28,26,24,22,8,6] }\n",
    "\n",
    "data6 = {\"EMPID\":[\"E7\",\"E8\",\"E9\",\"E10\",\"E11\",\"E12\"],\n",
    "         \"Name\": [\"Stefan\", \"Damon\", \"Klaus\", \"Elijah\", \"Matt\", \"Tyler\"],\n",
    "         \"Age\": [28,26,24,22,8,6]}\n",
    "\n",
    "df5 = pd.DataFrame(data5)\n",
    "df6 = pd.DataFrame(data6)\n",
    "\n",
    "print(df5)\n",
    "print()\n",
    "print(df6)"
   ]
  },
  {
   "cell_type": "code",
   "execution_count": 54,
   "id": "70721de0-a9a9-4a69-9c9f-b81e043c417a",
   "metadata": {},
   "outputs": [
    {
     "data": {
      "text/html": [
       "<div>\n",
       "<style scoped>\n",
       "    .dataframe tbody tr th:only-of-type {\n",
       "        vertical-align: middle;\n",
       "    }\n",
       "\n",
       "    .dataframe tbody tr th {\n",
       "        vertical-align: top;\n",
       "    }\n",
       "\n",
       "    .dataframe thead th {\n",
       "        text-align: right;\n",
       "    }\n",
       "</style>\n",
       "<table border=\"1\" class=\"dataframe\">\n",
       "  <thead>\n",
       "    <tr style=\"text-align: right;\">\n",
       "      <th></th>\n",
       "      <th>EMPID</th>\n",
       "      <th>Name</th>\n",
       "      <th>Age</th>\n",
       "    </tr>\n",
       "  </thead>\n",
       "  <tbody>\n",
       "    <tr>\n",
       "      <th>0</th>\n",
       "      <td>E1</td>\n",
       "      <td>Ram</td>\n",
       "      <td>28</td>\n",
       "    </tr>\n",
       "    <tr>\n",
       "      <th>1</th>\n",
       "      <td>E2</td>\n",
       "      <td>Lakshman</td>\n",
       "      <td>26</td>\n",
       "    </tr>\n",
       "    <tr>\n",
       "      <th>2</th>\n",
       "      <td>E3</td>\n",
       "      <td>Bharat</td>\n",
       "      <td>24</td>\n",
       "    </tr>\n",
       "    <tr>\n",
       "      <th>3</th>\n",
       "      <td>E4</td>\n",
       "      <td>Shatrughan</td>\n",
       "      <td>22</td>\n",
       "    </tr>\n",
       "    <tr>\n",
       "      <th>4</th>\n",
       "      <td>E5</td>\n",
       "      <td>Luv</td>\n",
       "      <td>8</td>\n",
       "    </tr>\n",
       "    <tr>\n",
       "      <th>5</th>\n",
       "      <td>E6</td>\n",
       "      <td>Kush</td>\n",
       "      <td>6</td>\n",
       "    </tr>\n",
       "    <tr>\n",
       "      <th>0</th>\n",
       "      <td>E7</td>\n",
       "      <td>Stefan</td>\n",
       "      <td>28</td>\n",
       "    </tr>\n",
       "    <tr>\n",
       "      <th>1</th>\n",
       "      <td>E8</td>\n",
       "      <td>Damon</td>\n",
       "      <td>26</td>\n",
       "    </tr>\n",
       "    <tr>\n",
       "      <th>2</th>\n",
       "      <td>E9</td>\n",
       "      <td>Klaus</td>\n",
       "      <td>24</td>\n",
       "    </tr>\n",
       "    <tr>\n",
       "      <th>3</th>\n",
       "      <td>E10</td>\n",
       "      <td>Elijah</td>\n",
       "      <td>22</td>\n",
       "    </tr>\n",
       "    <tr>\n",
       "      <th>4</th>\n",
       "      <td>E11</td>\n",
       "      <td>Matt</td>\n",
       "      <td>8</td>\n",
       "    </tr>\n",
       "    <tr>\n",
       "      <th>5</th>\n",
       "      <td>E12</td>\n",
       "      <td>Tyler</td>\n",
       "      <td>6</td>\n",
       "    </tr>\n",
       "  </tbody>\n",
       "</table>\n",
       "</div>"
      ],
      "text/plain": [
       "  EMPID        Name  Age\n",
       "0    E1         Ram   28\n",
       "1    E2    Lakshman   26\n",
       "2    E3      Bharat   24\n",
       "3    E4  Shatrughan   22\n",
       "4    E5         Luv    8\n",
       "5    E6        Kush    6\n",
       "0    E7      Stefan   28\n",
       "1    E8       Damon   26\n",
       "2    E9       Klaus   24\n",
       "3   E10      Elijah   22\n",
       "4   E11        Matt    8\n",
       "5   E12       Tyler    6"
      ]
     },
     "execution_count": 54,
     "metadata": {},
     "output_type": "execute_result"
    }
   ],
   "source": [
    "pd.concat([df5,df6])"
   ]
  }
 ],
 "metadata": {
  "kernelspec": {
   "display_name": "Python 3 (ipykernel)",
   "language": "python",
   "name": "python3"
  },
  "language_info": {
   "codemirror_mode": {
    "name": "ipython",
    "version": 3
   },
   "file_extension": ".py",
   "mimetype": "text/x-python",
   "name": "python",
   "nbconvert_exporter": "python",
   "pygments_lexer": "ipython3",
   "version": "3.11.7"
  }
 },
 "nbformat": 4,
 "nbformat_minor": 5
}
