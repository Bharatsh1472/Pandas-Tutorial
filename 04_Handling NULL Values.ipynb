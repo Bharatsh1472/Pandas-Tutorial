{
 "cells": [
  {
   "cell_type": "markdown",
   "id": "344c60d0-b1d2-4339-a627-601723f84871",
   "metadata": {},
   "source": [
    "# HANDLING NULL VALUES"
   ]
  },
  {
   "cell_type": "code",
   "execution_count": 2,
   "id": "4529510c-ed02-44d2-8418-3d34ef165da9",
   "metadata": {},
   "outputs": [
    {
     "name": "stdout",
     "output_type": "stream",
     "text": [
      "   EMPID      Name Gender   Salary\n",
      "0    101  harshita      F  35133.0\n",
      "1    105    bhavin      M      NaN\n",
      "2    101  harshita      F  35133.0\n",
      "3    103     abhay      M  35453.0\n",
      "4    108       NaN      F  35365.0\n",
      "5    110     nitin      M      NaN\n",
      "6    103     abhay      M  35453.0\n"
     ]
    }
   ],
   "source": [
    "import pandas as pd\n",
    "\n",
    "data = pd.read_excel(\"C:/Users/ACER/Desktop/stuff/DS PROJECT/Datasets/EMP.XLSX\")\n",
    "print(data)"
   ]
  },
  {
   "cell_type": "code",
   "execution_count": 4,
   "id": "91ada84e-1e73-4540-bc2c-32b3c7e0da97",
   "metadata": {},
   "outputs": [
    {
     "name": "stdout",
     "output_type": "stream",
     "text": [
      "   EMPID   Name  Gender  Salary\n",
      "0  False  False   False   False\n",
      "1  False  False   False    True\n",
      "2  False  False   False   False\n",
      "3  False  False   False   False\n",
      "4  False   True   False   False\n",
      "5  False  False   False    True\n",
      "6  False  False   False   False\n"
     ]
    }
   ],
   "source": [
    "# Print a boolean DataFrame indicating the presence of null values in the 'data' DataFrame\n",
    "print(data.isnull())"
   ]
  },
  {
   "cell_type": "code",
   "execution_count": 6,
   "id": "483902b5-6a39-4b24-8883-35c660c94b78",
   "metadata": {},
   "outputs": [
    {
     "name": "stdout",
     "output_type": "stream",
     "text": [
      "EMPID     0\n",
      "Name      1\n",
      "Gender    0\n",
      "Salary    2\n",
      "dtype: int64\n"
     ]
    }
   ],
   "source": [
    "# Print the total number of missing values in each column of the DataFrame 'data'\n",
    "print(data.isnull().sum())"
   ]
  },
  {
   "cell_type": "code",
   "execution_count": 18,
   "id": "18a90741-9932-4592-b0a7-17b08cf515eb",
   "metadata": {},
   "outputs": [
    {
     "name": "stdout",
     "output_type": "stream",
     "text": [
      "35307.4\n",
      "\n",
      "   EMPID      Name Gender   Salary\n",
      "0    101  harshita      F  35133.0\n",
      "1    105    bhavin      M  35307.4\n",
      "2    101  harshita      F  35133.0\n",
      "3    103     abhay      M  35453.0\n",
      "4    108       NaN      F  35365.0\n",
      "5    110     nitin      M  35307.4\n",
      "6    103     abhay      M  35453.0\n"
     ]
    }
   ],
   "source": [
    "# Calculate and print the mean salary from the 'Salary' column in the data\n",
    "print(data[\"Salary\"].mean())\n",
    "print()\n",
    "print(data)"
   ]
  },
  {
   "cell_type": "code",
   "execution_count": 20,
   "id": "dab41ac2-b5c6-4a65-ae1c-2a223abeb7b7",
   "metadata": {},
   "outputs": [
    {
     "name": "stdout",
     "output_type": "stream",
     "text": [
      "   EMPID      Name Gender   Salary\n",
      "0    101  harshita      F  35133.0\n",
      "1    105    bhavin      M  35307.4\n",
      "2    101  harshita      F  35133.0\n",
      "3    103     abhay      M  35453.0\n",
      "4    108     35307      F  35365.0\n",
      "5    110     nitin      M  35307.4\n",
      "6    103     abhay      M  35453.0\n",
      "\n",
      "   EMPID      Name Gender   Salary\n",
      "0    101  harshita      F  35133.0\n",
      "1    105    bhavin      M  35307.4\n",
      "2    101  harshita      F  35133.0\n",
      "3    103     abhay      M  35453.0\n",
      "4    108       NaN      F  35365.0\n",
      "5    110     nitin      M  35307.4\n",
      "6    103     abhay      M  35453.0\n",
      "\n",
      "35307.4\n"
     ]
    }
   ],
   "source": [
    "import numpy as np\n",
    "\n",
    "# Replace NaN values in the 'data' DataFrame with the mean value 35307\n",
    "print(data.replace(np.nan, 35307))\n",
    "\n",
    "# Replace NaN values in the 'Salary' column of the 'data' DataFrame with the value 35307.4\n",
    "data[\"Salary\"] = data[\"Salary\"].replace(np.nan, 35307.4)\n",
    "\n",
    "print()\n",
    "\n",
    "print(data)\n",
    "\n",
    "print()\n",
    "\n",
    "# Calculate and print the mean of the 'Salary' column\n",
    "print(data[\"Salary\"].mean())"
   ]
  },
  {
   "cell_type": "code",
   "execution_count": 33,
   "id": "d39cd299-12bb-431c-8997-adf7f646f687",
   "metadata": {},
   "outputs": [
    {
     "name": "stdout",
     "output_type": "stream",
     "text": [
      "   EMPID      Name Gender   Salary\n",
      "0    101  harshita      F  35133.0\n",
      "1    105    bhavin      M      NaN\n",
      "2    101  harshita      F  35133.0\n",
      "3    103     abhay      M  35453.0\n",
      "4    108       NaN      F  35365.0\n",
      "5    110     nitin      M      NaN\n",
      "6    103     abhay      M  35453.0\n"
     ]
    }
   ],
   "source": [
    "import pandas as pd\n",
    "data = pd.read_excel(\"C:/Users/ACER/Desktop/stuff/DS PROJECT/Datasets/EMP.XLSX\")\n",
    "print(data)"
   ]
  },
  {
   "cell_type": "markdown",
   "id": "250f8eef-9bf5-440f-b0fd-cdb78b30594b",
   "metadata": {},
   "source": [
    "# BFILL() METHOD"
   ]
  },
  {
   "cell_type": "code",
   "execution_count": 28,
   "id": "0e29496b-2545-4e56-bbf2-0c36e61a7e58",
   "metadata": {},
   "outputs": [
    {
     "name": "stdout",
     "output_type": "stream",
     "text": [
      "   EMPID      Name Gender   Salary\n",
      "0    101  harshita      F  35133.0\n",
      "1    105    bhavin      M      NaN\n",
      "2    101  harshita      F  35133.0\n",
      "3    103     abhay      M  35453.0\n",
      "4    108       NaN      F  35365.0\n",
      "5    110     nitin      M      NaN\n",
      "6    103     abhay      M  35453.0\n",
      "\n",
      "   EMPID      Name Gender   Salary\n",
      "0    101  harshita      F  35133.0\n",
      "1    105    bhavin      M  35133.0\n",
      "2    101  harshita      F  35133.0\n",
      "3    103     abhay      M  35453.0\n",
      "4    108     nitin      F  35365.0\n",
      "5    110     nitin      M  35453.0\n",
      "6    103     abhay      M  35453.0\n"
     ]
    }
   ],
   "source": [
    "print(data)\n",
    "print()\n",
    "# Print the result of the backward fill operation on the 'data' DataFrame\n",
    "# The bfill() method fills NaN values using the next valid observation\n",
    "print(data.bfill())"
   ]
  },
  {
   "cell_type": "markdown",
   "id": "0b5b2130-21e9-4060-a0f7-d7b05de665b2",
   "metadata": {},
   "source": [
    "# FFILL() METHOD"
   ]
  },
  {
   "cell_type": "code",
   "execution_count": 30,
   "id": "277dc1b5-bf2c-452c-bbd7-ada525ebdf52",
   "metadata": {},
   "outputs": [
    {
     "name": "stdout",
     "output_type": "stream",
     "text": [
      "   EMPID      Name Gender   Salary\n",
      "0    101  harshita      F  35133.0\n",
      "1    105    bhavin      M      NaN\n",
      "2    101  harshita      F  35133.0\n",
      "3    103     abhay      M  35453.0\n",
      "4    108       NaN      F  35365.0\n",
      "5    110     nitin      M      NaN\n",
      "6    103     abhay      M  35453.0\n",
      "\n",
      "   EMPID      Name Gender   Salary\n",
      "0    101  harshita      F  35133.0\n",
      "1    105    bhavin      M  35133.0\n",
      "2    101  harshita      F  35133.0\n",
      "3    103     abhay      M  35453.0\n",
      "4    108     abhay      F  35365.0\n",
      "5    110     nitin      M  35365.0\n",
      "6    103     abhay      M  35453.0\n"
     ]
    }
   ],
   "source": [
    "print(data)\n",
    "print()\n",
    "# Print the data after applying forward fill to fill missing values\n",
    "print(data.ffill())"
   ]
  }
 ],
 "metadata": {
  "kernelspec": {
   "display_name": "Python 3 (ipykernel)",
   "language": "python",
   "name": "python3"
  },
  "language_info": {
   "codemirror_mode": {
    "name": "ipython",
    "version": 3
   },
   "file_extension": ".py",
   "mimetype": "text/x-python",
   "name": "python",
   "nbconvert_exporter": "python",
   "pygments_lexer": "ipython3",
   "version": "3.11.7"
  }
 },
 "nbformat": 4,
 "nbformat_minor": 5
}
