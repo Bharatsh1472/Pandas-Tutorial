{
 "cells": [
  {
   "cell_type": "markdown",
   "id": "8078bba0-be69-427c-a168-8b03016c5d89",
   "metadata": {},
   "source": [
    "# Pivoting & Melting in Pandas"
   ]
  },
  {
   "cell_type": "markdown",
   "id": "ab7c73cd-cf04-4e0b-9999-3e1af3adcbda",
   "metadata": {},
   "source": [
    "# Pivoting\n",
    "Reshapes a DataFrame from a long format to a wide format, typically used when you want to transform a column into multiple columns based on another column's values."
   ]
  },
  {
   "cell_type": "code",
   "execution_count": 9,
   "id": "c8157da3-0cd3-47bd-a967-e0c964802422",
   "metadata": {},
   "outputs": [
    {
     "name": "stdout",
     "output_type": "stream",
     "text": [
      "  Keys   Names Houses Grades\n",
      "0   k1    John    red      A\n",
      "1   k2    Kent   blue      A\n",
      "2   k1     Sam  green      C\n",
      "3   k2  Vickey    red      B\n",
      "\n",
      "      Houses                     Grades                 \n",
      "Names   John  Kent    Sam Vickey   John Kent  Sam Vickey\n",
      "Keys                                                    \n",
      "k1       red   NaN  green    NaN      A  NaN    C    NaN\n",
      "k2       NaN  blue    NaN    red    NaN    A  NaN      B\n"
     ]
    }
   ],
   "source": [
    "import pandas as pd\n",
    "\n",
    "data = {\n",
    "    \"Keys\":[\"k1\",\"k2\",\"k1\",\"k2\"],\n",
    "    \"Names\":[\"John\", \"Kent\", \"Sam\", \"Vickey\"],\n",
    "    \"Houses\":[\"red\", \"blue\", \"green\", \"red\"],\n",
    "    \"Grades\":[\"A\", \"A\", \"C\", \"B\"],\n",
    "}\n",
    "\n",
    "df = pd.DataFrame(data)\n",
    "print(df)\n",
    "\n",
    "print()\n",
    "\n",
    "# Pivot the DataFrame with specified index, columns, and values\n",
    "print(df.pivot(index=\"Keys\", columns=\"Names\", values=[\"Houses\",\"Grades\"]))"
   ]
  },
  {
   "cell_type": "markdown",
   "id": "bacc29ca-310f-4418-a669-70d3d8d41e79",
   "metadata": {},
   "source": [
    "# Melting\n",
    "Reshapes a DataFrame from a wide format to a long format, typically used when you want to transform multiple columns into a single column based on another column's values."
   ]
  },
  {
   "cell_type": "code",
   "execution_count": 11,
   "id": "574c0c1f-d564-4e40-9941-64fee5eb5348",
   "metadata": {},
   "outputs": [
    {
     "name": "stdout",
     "output_type": "stream",
     "text": [
      "    Names variable  value\n",
      "0    John   Houses    red\n",
      "1    Kent   Houses   blue\n",
      "2     Sam   Houses  green\n",
      "3  Vickey   Houses    red\n",
      "\n",
      "    Names Houses&Grades  Value\n",
      "0    John        Houses    red\n",
      "1    Kent        Houses   blue\n",
      "2     Sam        Houses  green\n",
      "3  Vickey        Houses    red\n",
      "4    John        Grades      A\n",
      "5    Kent        Grades      A\n",
      "6     Sam        Grades      C\n",
      "7  Vickey        Grades      B\n"
     ]
    }
   ],
   "source": [
    "# Melt the DataFrame with only \"Houses\" as the value variable\n",
    "print(pd.melt(df, id_vars = [\"Names\"], value_vars = [\"Houses\"]))\n",
    "\n",
    "print()\n",
    "\n",
    "# Melt the DataFrame with \"Houses\" and \"Grades\" as value variables\n",
    "print(pd.melt(df, id_vars = [\"Names\"], value_vars = [\"Houses\", \"Grades\"], var_name = \"Houses&Grades\", value_name = \"Value\"))"
   ]
  }
 ],
 "metadata": {
  "kernelspec": {
   "display_name": "Python 3 (ipykernel)",
   "language": "python",
   "name": "python3"
  },
  "language_info": {
   "codemirror_mode": {
    "name": "ipython",
    "version": 3
   },
   "file_extension": ".py",
   "mimetype": "text/x-python",
   "name": "python",
   "nbconvert_exporter": "python",
   "pygments_lexer": "ipython3",
   "version": "3.11.7"
  }
 },
 "nbformat": 4,
 "nbformat_minor": 5
}
