{
 "cells": [
  {
   "cell_type": "markdown",
   "id": "bf6b44bc-031d-4ddb-ba63-77f9839f4756",
   "metadata": {},
   "source": [
    "# Comparing DataFrames"
   ]
  },
  {
   "cell_type": "code",
   "execution_count": 4,
   "id": "41a3397a-cd4a-474a-ae94-bdb5d9bbc19a",
   "metadata": {},
   "outputs": [
    {
     "name": "stdout",
     "output_type": "stream",
     "text": [
      "   Fruits  Price  Quantity\n",
      "0   Mango    120         5\n",
      "1  Banana     70        12\n",
      "2  Litchi     80         3\n",
      "3  Grapes     70         2\n",
      "\n",
      "   Fruits  Price  Quantity\n",
      "0   Mango    120         5\n",
      "1  Banana     70        12\n",
      "2  Litchi     80         3\n",
      "3  Grapes     70         2\n",
      "\n",
      "Modified DataFrame:\n",
      "   Fruits  Price  Quantity\n",
      "0   Mango    100         6\n",
      "1  Banana     60         8\n",
      "2  Litchi     90         2\n",
      "3  Grapes     70         1\n"
     ]
    }
   ],
   "source": [
    "import pandas as pd\n",
    "\n",
    "dict = {\n",
    "    \"Fruits\": [\"Mango\", \"Banana\", \"Litchi\", \"Grapes\"],\n",
    "    \"Price\": [120,70,80,70],\n",
    "    \"Quantity\": [5,12,3,2]\n",
    "}\n",
    "\n",
    "df1 = pd.DataFrame(dict)\n",
    "print(df1)\n",
    "\n",
    "print()\n",
    "\n",
    "# Creating a copy of the DataFrame\n",
    "df2 = df1.copy()\n",
    "print(df2)\n",
    "\n",
    "print()\n",
    "\n",
    "# Modifying specific values in the copied DataFrame\n",
    "df2.loc[0,\"Price\"] = 100\n",
    "df2.loc[1,\"Price\"] = 60\n",
    "df2.loc[2,\"Price\"] = 90\n",
    "\n",
    "df2.loc[0,\"Quantity\"] = 6\n",
    "df2.loc[1,\"Quantity\"] = 8\n",
    "df2.loc[2,\"Quantity\"] = 2\n",
    "df2.loc[3,\"Quantity\"] = 1\n",
    "\n",
    "# Print the modified DataFrame\n",
    "print(\"Modified DataFrame:\")\n",
    "print(df2)"
   ]
  },
  {
   "cell_type": "markdown",
   "id": "1a71caee-d422-4be0-a9db-6bb20da344bc",
   "metadata": {},
   "source": [
    "# Compare DataFrames with Different `keep_equal` and `keep_shape` Arguments"
   ]
  },
  {
   "cell_type": "code",
   "execution_count": 7,
   "id": "570240bf-eb5c-4e35-b2d8-ca77e4436bce",
   "metadata": {},
   "outputs": [
    {
     "name": "stdout",
     "output_type": "stream",
     "text": [
      "Default comparison (differences only):\n",
      "   Price        Quantity      \n",
      "    self  other     self other\n",
      "0  120.0  100.0        5     6\n",
      "1   70.0   60.0       12     8\n",
      "2   80.0   90.0        3     2\n",
      "3    NaN    NaN        2     1\n",
      "\n",
      "Show all elements, NaNs for unchanged (keep_equal=False, keep_shape=True):\n",
      "  Fruits        Price        Quantity      \n",
      "    self other   self  other     self other\n",
      "0    NaN   NaN  120.0  100.0        5     6\n",
      "1    NaN   NaN   70.0   60.0       12     8\n",
      "2    NaN   NaN   80.0   90.0        3     2\n",
      "3    NaN   NaN    NaN    NaN        2     1\n",
      "\n",
      "Show all elements, including unchanged (keep_equal=True, keep_shape=False):\n",
      "  Price       Quantity      \n",
      "   self other     self other\n",
      "0   120   100        5     6\n",
      "1    70    60       12     8\n",
      "2    80    90        3     2\n",
      "3    70    70        2     1\n",
      "\n",
      "Show all elements, NaNs for same, values for different (keep_equal=True, keep_shape=True):\n",
      "   Fruits         Price       Quantity      \n",
      "     self   other  self other     self other\n",
      "0   Mango   Mango   120   100        5     6\n",
      "1  Banana  Banana    70    60       12     8\n",
      "2  Litchi  Litchi    80    90        3     2\n",
      "3  Grapes  Grapes    70    70        2     1\n",
      "\n",
      "Comparison aligned by rows (align_axis=0):\n",
      "         Price  Quantity\n",
      "0 self   120.0         5\n",
      "  other  100.0         6\n",
      "1 self    70.0        12\n",
      "  other   60.0         8\n",
      "2 self    80.0         3\n",
      "  other   90.0         2\n",
      "3 self     NaN         2\n",
      "  other    NaN         1\n",
      "\n"
     ]
    }
   ],
   "source": [
    "# Default behavior: keep_equal=False, keep_shape=False (shows only differences)\n",
    "print(\"Default comparison (differences only):\")\n",
    "print(df1.compare(df2))\n",
    "print()\n",
    "\n",
    "# keep_equal=False, keep_shape=True (shows all elements, NaNs for unchanged)\n",
    "print(\"Show all elements, NaNs for unchanged (keep_equal=False, keep_shape=True):\")\n",
    "print(df1.compare(df2, keep_shape=True))\n",
    "print()\n",
    "\n",
    "# keep_equal=True, keep_shape=False (shows all elements, including unchanged)\n",
    "print(\"Show all elements, including unchanged (keep_equal=True, keep_shape=False):\")\n",
    "print(df1.compare(df2, keep_equal=True))\n",
    "print()\n",
    "\n",
    "# keep_equal=True, keep_shape=True (shows all elements, NaNs for same, values for different)\n",
    "print(\"Show all elements, NaNs for same, values for different (keep_equal=True, keep_shape=True):\")\n",
    "print(df1.compare(df2, keep_equal=True, keep_shape=True))\n",
    "print()\n",
    "\n",
    "# Align comparison by rows (align_axis=0)\n",
    "print(\"Comparison aligned by rows (align_axis=0):\")\n",
    "print(df1.compare(df2, align_axis=0))\n",
    "print()"
   ]
  }
 ],
 "metadata": {
  "kernelspec": {
   "display_name": "Python 3 (ipykernel)",
   "language": "python",
   "name": "python3"
  },
  "language_info": {
   "codemirror_mode": {
    "name": "ipython",
    "version": 3
   },
   "file_extension": ".py",
   "mimetype": "text/x-python",
   "name": "python",
   "nbconvert_exporter": "python",
   "pygments_lexer": "ipython3",
   "version": "3.11.7"
  }
 },
 "nbformat": 4,
 "nbformat_minor": 5
}
